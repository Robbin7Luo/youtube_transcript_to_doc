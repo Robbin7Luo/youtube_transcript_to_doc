{
 "cells": [
  {
   "cell_type": "code",
   "execution_count": 47,
   "id": "92ef1ec9",
   "metadata": {},
   "outputs": [],
   "source": [
    "import re\n",
    "import requests\n",
    "import youtube_transcript_api.formatters\n",
    "import pandas as pd\n",
    "\n",
    "from openai import OpenAI\n",
    "from bs4 import BeautifulSoup\n",
    "from pytube import Playlist\n",
    "from youtube_transcript_api import YouTubeTranscriptApi, NoTranscriptFound"
   ]
  },
  {
   "cell_type": "code",
   "execution_count": 48,
   "id": "644445de",
   "metadata": {},
   "outputs": [],
   "source": [
    "# use your openai key\n",
    "client = OpenAI()\n",
    "#client = OpenAI(api_key=\"sk-xxx\")"
   ]
  },
  {
   "cell_type": "code",
   "execution_count": 49,
   "id": "e504054e",
   "metadata": {},
   "outputs": [],
   "source": [
    "# get playlist by youtuber ID\n",
    "def get_playlist(youtuber_id):\n",
    "    channel_url = \"https://www.youtube.com/\"+ youtuber_id + \"/playlists\"\n",
    "    response = requests.get(channel_url)\n",
    "    soup = BeautifulSoup(response.content, \"html.parser\")\n",
    "    # Find all strings that match the regular expression for a playlist ID\n",
    "    playlist_pattern = r'\"playlistId\":\"(PL[^\"]+)\"'\n",
    "    playlist_ids = re.findall(playlist_pattern, str(soup))\n",
    "    # Remove duplicates\n",
    "    return set(playlist_ids) \n",
    "\n",
    "def get_playlist_name(playlist_id):\n",
    "    playlist_url = \"https://www.youtube.com/playlist?list=\" + playlist_id\n",
    "    r = requests.get(playlist_url)\n",
    "    soup = BeautifulSoup(r.text)\n",
    "    title_tag = soup.find(\"title\")\n",
    "    if title_tag:\n",
    "        full_title = title_tag.text.strip()\n",
    "        # Assuming the format is 'Playlist Title - YouTube'\n",
    "        playlist_name = full_title.split(' - ')[0]\n",
    "    return playlist_name\n",
    "\n",
    "# get video title by video ID\n",
    "def get_video_title(video_id):\n",
    "    r = requests.get(\"https://www.youtube.com/watch?v=\" + video_id)\n",
    "    soup = BeautifulSoup(r.text)\n",
    "    link = soup.find_all(name=\"title\")[0]\n",
    "    title = str(link)\n",
    "    title = title.replace(\"<title>\",\"\")\n",
    "    title = title.replace(\"</title>\",\"\")\n",
    "    title = title.replace(\" - YouTube\",\"\")\n",
    "    return title\n",
    "\n",
    "# download transcript by video url\n",
    "def download_transcript(url):\n",
    "    try:\n",
    "        # Fetching the subtitles\n",
    "        transcript_list = YouTubeTranscriptApi.list_transcripts(url)\n",
    "        transcript = transcript_list.find_generated_transcript(['en'])\n",
    "        # Formatting the transcript as plain text\n",
    "        formatter = youtube_transcript_api.formatters.TextFormatter()\n",
    "        text_transcript = formatter.format_transcript(transcript.fetch())\n",
    "    except:\n",
    "        text_transcript = \"No transcript found for video.\"\n",
    "    return text_transcript\n",
    "\n",
    "# download all transcript by youtuber ID\n",
    "def get_all_transcript(youtuber_id):\n",
    "    video_dict = dict({})\n",
    "    playlist_ids = get_playlist(youtuber_id)\n",
    "    playlist_dict = dict({})\n",
    "    # create a dict of playlist\n",
    "    for playlist_id in playlist_ids:\n",
    "        playlist_name = get_playlist_name(playlist_id)\n",
    "        playlist_dict[playlist_id] = playlist_name\n",
    "    # loop the playlist for each video\n",
    "    for i in playlist_dict:\n",
    "        list_name = playlist_dict[i]\n",
    "        print(list_name)\n",
    "        url_playlist = \"https://www.youtube.com/playlist?list=\" + i\n",
    "        videos = Playlist(url_playlist)\n",
    "        videos = [i.split(\"v=\")[1] for i in videos]\n",
    "        # get title and subtitles of each video\n",
    "        for video_id in videos:\n",
    "            title = get_video_title(video_id)\n",
    "            print(title)\n",
    "            transcript = download_transcript(video_id)\n",
    "            video_dict[video_id] = [title, transcript, i, list_name]\n",
    "    # output dataframe\n",
    "    sub_df = pd.DataFrame(video_dict).T.reset_index()\n",
    "    sub_df.columns = [\"video_id\", \"video_name\", \"transcript\", \"playlist_id\", \"playlist_name\"]\n",
    "    return sub_df\n",
    "\n",
    "\n",
    "# process and clean transcript with Gen AI prompts\n",
    "clean_sys = \"\"\"\n",
    "            Input:\n",
    "            YouTube video transcripts in English.\n",
    "            The transcripts often begin with greetings and casual conversation.\n",
    "            The content includes the YouTuber's personal wording and opinions.\n",
    "            The format is unstructured and may contain irrelevant characters.\n",
    "\n",
    "            Processing Goals:\n",
    "            Format Standardization: Transform the transcript into a coherent and readable format. This involves structuring the text logically and ensuring consistency in presentation.\n",
    "            Cleaning and Clarity: Remove extraneous text and characters. Add punctuation to improve clarity, especially where expressions or sentences are ambiguous.\n",
    "            Narrative Conversion: Shift from a first-person narrative to an objective, third-person perspective. This involves rephrasing subjective statements into objective information.\n",
    "            Content Focus: Identify and retain only the text relevant to the main topic of the transcript. Exclude any off-topic remarks or digressions to maintain focus on the core subject matter.\n",
    "\n",
    "            Output:\n",
    "            A refined and structured document that presents the essential knowledge from the YouTube transcript.\n",
    "            The text should be free of casual, irrelevant, and subjective elements, offering a clear, objective, and topic-focused read.\n",
    "            Please don't mention Youtube or Youtuber in the output.\n",
    "            \"\"\"\n",
    "\n",
    "clean_pmt = \"\"\"\n",
    "            Please process below transcripts and your response will only include the processed output.\n",
    "            \n",
    "            \"\"\"\n",
    "\n",
    "# select gpt model to convert subjective transcript to objective knowledge\n",
    "def clean_transcripts(text, gpt_model):\n",
    "    clean_text = client.chat.completions.create(\n",
    "        model = gpt_model,\n",
    "        messages = [\n",
    "                    {\"role\": \"system\", \"content\": clean_sys},\n",
    "                    {\"role\": \"user\", \"content\": clean_pmt + text}\n",
    "                  ]\n",
    "        )\n",
    "    converted_text = clean_text.choices[0].message.content\n",
    "    return converted_text"
   ]
  },
  {
   "cell_type": "code",
   "execution_count": 55,
   "id": "50c4a753",
   "metadata": {
    "scrolled": true
   },
   "outputs": [
    {
     "data": {
      "text/html": [
       "<div>\n",
       "<style scoped>\n",
       "    .dataframe tbody tr th:only-of-type {\n",
       "        vertical-align: middle;\n",
       "    }\n",
       "\n",
       "    .dataframe tbody tr th {\n",
       "        vertical-align: top;\n",
       "    }\n",
       "\n",
       "    .dataframe thead th {\n",
       "        text-align: right;\n",
       "    }\n",
       "</style>\n",
       "<table border=\"1\" class=\"dataframe\">\n",
       "  <thead>\n",
       "    <tr style=\"text-align: right;\">\n",
       "      <th></th>\n",
       "      <th>video_id</th>\n",
       "      <th>video_name</th>\n",
       "      <th>transcript</th>\n",
       "      <th>playlist_id</th>\n",
       "      <th>playlist_name</th>\n",
       "    </tr>\n",
       "  </thead>\n",
       "  <tbody>\n",
       "    <tr>\n",
       "      <th>0</th>\n",
       "      <td>EDcCG-h96xk</td>\n",
       "      <td>We make boards you can trust!</td>\n",
       "      <td>[Applause]\\nhello everybody\\nbeing environment...</td>\n",
       "      <td>PLnt6rxj68XCb-XdHReer9BYpu8PG4X6nt</td>\n",
       "      <td>Shapers Words</td>\n",
       "    </tr>\n",
       "    <tr>\n",
       "      <th>1</th>\n",
       "      <td>aaIM5TfOLWw</td>\n",
       "      <td>Help me me build the best snowboard possible!</td>\n",
       "      <td>foreign\\nhey guys I'm working on some uh reall...</td>\n",
       "      <td>PLnt6rxj68XCb-XdHReer9BYpu8PG4X6nt</td>\n",
       "      <td>Shapers Words</td>\n",
       "    </tr>\n",
       "  </tbody>\n",
       "</table>\n",
       "</div>"
      ],
      "text/plain": [
       "      video_id                                     video_name  \\\n",
       "0  EDcCG-h96xk                  We make boards you can trust!   \n",
       "1  aaIM5TfOLWw  Help me me build the best snowboard possible!   \n",
       "\n",
       "                                          transcript  \\\n",
       "0  [Applause]\\nhello everybody\\nbeing environment...   \n",
       "1  foreign\\nhey guys I'm working on some uh reall...   \n",
       "\n",
       "                          playlist_id  playlist_name  \n",
       "0  PLnt6rxj68XCb-XdHReer9BYpu8PG4X6nt  Shapers Words  \n",
       "1  PLnt6rxj68XCb-XdHReer9BYpu8PG4X6nt  Shapers Words  "
      ]
     },
     "execution_count": 55,
     "metadata": {},
     "output_type": "execute_result"
    }
   ],
   "source": [
    "# use youtuber @StrandaSnowboards as an example\n",
    "df = get_all_transcript(\"@StrandaSnowboards\")\n",
    "df = df[df[\"transcript\"] != \"No transcript found for video.\"].reset_index(drop = True)\n",
    "# df[\"transcript_converted\"] = df[\"transcript\"].map(lambda x: clean_transcripts(x, \"gpt-4-1106-preview\"))\n",
    "df.head(2)"
   ]
  },
  {
   "cell_type": "code",
   "execution_count": 53,
   "id": "4627d61c",
   "metadata": {
    "scrolled": true
   },
   "outputs": [
    {
     "data": {
      "text/plain": [
       "\"[Music]\\nhi guys\\nlet me introduce the descender it's an\\nall-mountain directional Ripper that\\noffers all the power and control you\\ncould ever ask for\\nit's nimble enough for some back country\\nfreestyle it's burly enough to charge\\nreally big lines sidecut is somewhere in\\nbetween what you usually would ask for\\non a big mountain board so it's fun in\\nlower speed each bite is phenomenal it\\nhas added bumps here at the inserts\\npoints so you have four contact points\\nhere here here and here\\nwhich really gives good edge bite I've\\nbeen carving the out of icy\\ngroomers with this board it's just so\\nstable that means that it's also super\\nsafe when you traverse exposed terrain\\nwe're falling is not an option I'm truly\\nproud about this board it's developed\\nwith feedback from some of Sweden's best\\nfree riders among others two-time Big\\nMountain champion Steph honestly the\\nbottom shape is a camber which extends\\nquite a far bit outside the insert\\npositions it's a low camber for five\\nmillimeters something and in order to\\ncompensate for when you have rocker in\\ntip and tail you can get a too short and\\nlow camera height under the rear foot I\\nuse a parabolic curve on the camber\\nwhich means that I hold the height here\\nso you get pop and a lot of power\\ndriving the board here on your rear foot\\nfor your reference on this 161 side cut\\nis eight point nine meter and as I said\\nthat's a bit smaller and it compensates\\nfor the kind of sluggishness you can\\noften get the feel of when you ride\\nconventional big mountain boards we had\\na lot of great feedback on the top sheet\\nand I think it's a real looker with the\\nmatte gray semi translucent top sheet\\nyou can see the wood\\nor coming through I shot this mountain\\nrange here with my GoPro on a huge\\npowder day in Sestriere it was one of my\\nbest days riding ever\\nso who's this board for I would say it's\\nfor anyone who wants directional\\nfreeride board with enough tail to allow\\nyour switch landings and with enough\\npower to charge big lines it's not a\\nbeginner sport I would say it's from\\nintermediates and up this is a board\\nwhere you can learn why you progress and\\nthe limitations of this board is there\\nare no limitations I would say so\\nthe strand descender\""
      ]
     },
     "execution_count": 53,
     "metadata": {},
     "output_type": "execute_result"
    }
   ],
   "source": [
    "#downloaded transcripts\n",
    "text = df[\"transcript\"][13]\n",
    "text"
   ]
  },
  {
   "cell_type": "code",
   "execution_count": 54,
   "id": "6800a2c7",
   "metadata": {
    "scrolled": true
   },
   "outputs": [
    {
     "name": "stdout",
     "output_type": "stream",
     "text": [
      "The Descender is a versatile all-mountain directional snowboard designed for advanced riders. It offers a balance of power and control, enabling users to comfortably engage in backcountry freestyle and tackle large lines. Constructed with a moderate sidecut, the board performs well at various speeds and excels in edge grip due to the addition of extra contact points near the insert positions.\n",
      "\n",
      "The design, enhanced by feedback from prominent Swedish free riders like the two-time Big Mountain champion Steph, features a camber with a low profile of five millimeters, extending past the insert positions. This is complemented by a parabolic camber curve to maintain pop and drive, especially under the rear foot.\n",
      "\n",
      "With an 8.9-meter sidecut on the 161 model, the board's design aims to provide agility that often lacks in traditional big mountain snowboards. The top sheet sports a matte gray, semi-translucent finish that showcases the natural wood grain and features an image of a mountain range captured on a notable powder day in Sestriere.\n",
      "\n",
      "Tailored for intermediate to advanced riders, the Descender excels in directional freeride scenarios. It offers enough tail for switch landings and the robust build needed to charge down demanding terrains. The board's attributes allow riders to continue improving their skills without facing limitations imposed by the equipment.\n"
     ]
    }
   ],
   "source": [
    "#shaped transcripts\n",
    "clean_text = clean_transcripts(text, \"gpt-4-1106-preview\")\n",
    "print(clean_text)"
   ]
  },
  {
   "cell_type": "code",
   "execution_count": 56,
   "id": "acf03d0d",
   "metadata": {},
   "outputs": [
    {
     "name": "stdout",
     "output_type": "stream",
     "text": [
      "Collecting pipreqs\n",
      "  Downloading pipreqs-0.4.13-py2.py3-none-any.whl (33 kB)\n",
      "Requirement already satisfied: docopt in /Users/jjpjk/.env/lib/python3.9/site-packages (from pipreqs) (0.6.2)\n",
      "Collecting yarg\n",
      "  Downloading yarg-0.1.9-py2.py3-none-any.whl (19 kB)\n",
      "Requirement already satisfied: requests in /Users/jjpjk/.env/lib/python3.9/site-packages (from yarg->pipreqs) (2.31.0)\n",
      "Requirement already satisfied: idna<4,>=2.5 in /Users/jjpjk/.env/lib/python3.9/site-packages (from requests->yarg->pipreqs) (3.4)\n",
      "Requirement already satisfied: urllib3<3,>=1.21.1 in /Users/jjpjk/.env/lib/python3.9/site-packages (from requests->yarg->pipreqs) (1.26.14)\n",
      "Requirement already satisfied: charset-normalizer<4,>=2 in /Users/jjpjk/.env/lib/python3.9/site-packages (from requests->yarg->pipreqs) (3.0.1)\n",
      "Requirement already satisfied: certifi>=2017.4.17 in /Users/jjpjk/.env/lib/python3.9/site-packages (from requests->yarg->pipreqs) (2022.12.7)\n",
      "Installing collected packages: yarg, pipreqs\n",
      "Successfully installed pipreqs-0.4.13 yarg-0.1.9\n",
      "\u001b[33mWARNING: You are using pip version 21.2.4; however, version 23.3.2 is available.\n",
      "You should consider upgrading via the '/Users/jjpjk/.env/bin/python3 -m pip install --upgrade pip' command.\u001b[0m\n"
     ]
    }
   ],
   "source": [
    "!pip install pipreqs"
   ]
  },
  {
   "cell_type": "code",
   "execution_count": 58,
   "id": "30b98eed",
   "metadata": {},
   "outputs": [
    {
     "name": "stdout",
     "output_type": "stream",
     "text": [
      "WARNING: requirements.txt already exists, use --force to overwrite it\r\n"
     ]
    }
   ],
   "source": [
    "!python3 -m  pipreqs.pipreqs ."
   ]
  },
  {
   "cell_type": "code",
   "execution_count": null,
   "id": "52f1139b",
   "metadata": {},
   "outputs": [],
   "source": []
  }
 ],
 "metadata": {
  "kernelspec": {
   "display_name": "Python 3 (ipykernel)",
   "language": "python",
   "name": "python3"
  },
  "language_info": {
   "codemirror_mode": {
    "name": "ipython",
    "version": 3
   },
   "file_extension": ".py",
   "mimetype": "text/x-python",
   "name": "python",
   "nbconvert_exporter": "python",
   "pygments_lexer": "ipython3",
   "version": "3.9.6"
  }
 },
 "nbformat": 4,
 "nbformat_minor": 5
}
